{
  "cells": [
    {
      "cell_type": "code",
      "execution_count": null,
      "metadata": {
        "id": "Efc7m4e6A_tH"
      },
      "outputs": [],
      "source": [
        "##In Google Colab, set up to GPU by going to Runtime -> Change runtime type -> Hardware accelerator -> GPU."
      ]
    },
    {
      "cell_type": "code",
      "execution_count": null,
      "metadata": {
        "colab": {
          "base_uri": "https://localhost:8080/"
        },
        "id": "cvMxzJyx-Nzx",
        "outputId": "ebd7d863-1492-4aba-8e37-2f52c5a4fa24"
      },
      "outputs": [
        {
          "name": "stdout",
          "output_type": "stream",
          "text": [
            "Drive already mounted at /content/drive; to attempt to forcibly remount, call drive.mount(\"/content/drive\", force_remount=True).\n"
          ]
        }
      ],
      "source": [
        "from google.colab import drive\n",
        "drive.mount('/content/drive')"
      ]
    },
    {
      "cell_type": "markdown",
      "metadata": {
        "id": "1ZjeEbfXD7Ao"
      },
      "source": [
        "# **Installing Necessary Libraries and Importing Data**"
      ]
    },
    {
      "cell_type": "code",
      "execution_count": null,
      "metadata": {
        "colab": {
          "base_uri": "https://localhost:8080/"
        },
        "id": "LoGyUuf6gETM",
        "outputId": "8ea5a82b-f36d-47d4-88b2-164fdcd19f63"
      },
      "outputs": [
        {
          "name": "stdout",
          "output_type": "stream",
          "text": [
            "Requirement already satisfied: Unidecode in /usr/local/lib/python3.10/dist-packages (1.3.8)\n"
          ]
        }
      ],
      "source": [
        "!pip install Unidecode"
      ]
    },
    {
      "cell_type": "code",
      "execution_count": null,
      "metadata": {
        "colab": {
          "base_uri": "https://localhost:8080/"
        },
        "id": "NnVdSUT-I_PJ",
        "outputId": "f0a30d39-33ad-4f47-884f-428d6a74a42b"
      },
      "outputs": [
        {
          "name": "stderr",
          "output_type": "stream",
          "text": [
            "[nltk_data] Downloading package punkt to /root/nltk_data...\n",
            "[nltk_data]   Package punkt is already up-to-date!\n"
          ]
        },
        {
          "data": {
            "text/plain": [
              "True"
            ]
          },
          "execution_count": 40,
          "metadata": {},
          "output_type": "execute_result"
        }
      ],
      "source": [
        "import nltk\n",
        "nltk.download('punkt')"
      ]
    },
    {
      "cell_type": "code",
      "execution_count": null,
      "metadata": {
        "id": "sB4Mz2LHgZ0_"
      },
      "outputs": [],
      "source": [
        "from nltk.corpus import stopwords"
      ]
    },
    {
      "cell_type": "code",
      "execution_count": null,
      "metadata": {
        "colab": {
          "base_uri": "https://localhost:8080/"
        },
        "id": "Q8UCNuM-6ik3",
        "outputId": "9fc5887a-05f3-44e6-fb4c-c2a442311ded"
      },
      "outputs": [
        {
          "name": "stdout",
          "output_type": "stream",
          "text": [
            "Requirement already satisfied: spacy in /usr/local/lib/python3.10/dist-packages (3.7.4)\n",
            "Requirement already satisfied: spacy-legacy<3.1.0,>=3.0.11 in /usr/local/lib/python3.10/dist-packages (from spacy) (3.0.12)\n",
            "Requirement already satisfied: spacy-loggers<2.0.0,>=1.0.0 in /usr/local/lib/python3.10/dist-packages (from spacy) (1.0.5)\n",
            "Requirement already satisfied: murmurhash<1.1.0,>=0.28.0 in /usr/local/lib/python3.10/dist-packages (from spacy) (1.0.10)\n",
            "Requirement already satisfied: cymem<2.1.0,>=2.0.2 in /usr/local/lib/python3.10/dist-packages (from spacy) (2.0.8)\n",
            "Requirement already satisfied: preshed<3.1.0,>=3.0.2 in /usr/local/lib/python3.10/dist-packages (from spacy) (3.0.9)\n",
            "Requirement already satisfied: thinc<8.3.0,>=8.2.2 in /usr/local/lib/python3.10/dist-packages (from spacy) (8.2.3)\n",
            "Requirement already satisfied: wasabi<1.2.0,>=0.9.1 in /usr/local/lib/python3.10/dist-packages (from spacy) (1.1.2)\n",
            "Requirement already satisfied: srsly<3.0.0,>=2.4.3 in /usr/local/lib/python3.10/dist-packages (from spacy) (2.4.8)\n",
            "Requirement already satisfied: catalogue<2.1.0,>=2.0.6 in /usr/local/lib/python3.10/dist-packages (from spacy) (2.0.10)\n",
            "Requirement already satisfied: weasel<0.4.0,>=0.1.0 in /usr/local/lib/python3.10/dist-packages (from spacy) (0.3.4)\n",
            "Requirement already satisfied: typer<0.10.0,>=0.3.0 in /usr/local/lib/python3.10/dist-packages (from spacy) (0.9.4)\n",
            "Requirement already satisfied: smart-open<7.0.0,>=5.2.1 in /usr/local/lib/python3.10/dist-packages (from spacy) (6.4.0)\n",
            "Requirement already satisfied: tqdm<5.0.0,>=4.38.0 in /usr/local/lib/python3.10/dist-packages (from spacy) (4.66.2)\n",
            "Requirement already satisfied: requests<3.0.0,>=2.13.0 in /usr/local/lib/python3.10/dist-packages (from spacy) (2.31.0)\n",
            "Requirement already satisfied: pydantic!=1.8,!=1.8.1,<3.0.0,>=1.7.4 in /usr/local/lib/python3.10/dist-packages (from spacy) (2.6.4)\n",
            "Requirement already satisfied: jinja2 in /usr/local/lib/python3.10/dist-packages (from spacy) (3.1.3)\n",
            "Requirement already satisfied: setuptools in /usr/local/lib/python3.10/dist-packages (from spacy) (67.7.2)\n",
            "Requirement already satisfied: packaging>=20.0 in /usr/local/lib/python3.10/dist-packages (from spacy) (24.0)\n",
            "Requirement already satisfied: langcodes<4.0.0,>=3.2.0 in /usr/local/lib/python3.10/dist-packages (from spacy) (3.3.0)\n",
            "Requirement already satisfied: numpy>=1.19.0 in /usr/local/lib/python3.10/dist-packages (from spacy) (1.25.2)\n",
            "Requirement already satisfied: annotated-types>=0.4.0 in /usr/local/lib/python3.10/dist-packages (from pydantic!=1.8,!=1.8.1,<3.0.0,>=1.7.4->spacy) (0.6.0)\n",
            "Requirement already satisfied: pydantic-core==2.16.3 in /usr/local/lib/python3.10/dist-packages (from pydantic!=1.8,!=1.8.1,<3.0.0,>=1.7.4->spacy) (2.16.3)\n",
            "Requirement already satisfied: typing-extensions>=4.6.1 in /usr/local/lib/python3.10/dist-packages (from pydantic!=1.8,!=1.8.1,<3.0.0,>=1.7.4->spacy) (4.10.0)\n",
            "Requirement already satisfied: charset-normalizer<4,>=2 in /usr/local/lib/python3.10/dist-packages (from requests<3.0.0,>=2.13.0->spacy) (3.3.2)\n",
            "Requirement already satisfied: idna<4,>=2.5 in /usr/local/lib/python3.10/dist-packages (from requests<3.0.0,>=2.13.0->spacy) (3.6)\n",
            "Requirement already satisfied: urllib3<3,>=1.21.1 in /usr/local/lib/python3.10/dist-packages (from requests<3.0.0,>=2.13.0->spacy) (2.0.7)\n",
            "Requirement already satisfied: certifi>=2017.4.17 in /usr/local/lib/python3.10/dist-packages (from requests<3.0.0,>=2.13.0->spacy) (2024.2.2)\n",
            "Requirement already satisfied: blis<0.8.0,>=0.7.8 in /usr/local/lib/python3.10/dist-packages (from thinc<8.3.0,>=8.2.2->spacy) (0.7.11)\n",
            "Requirement already satisfied: confection<1.0.0,>=0.0.1 in /usr/local/lib/python3.10/dist-packages (from thinc<8.3.0,>=8.2.2->spacy) (0.1.4)\n",
            "Requirement already satisfied: click<9.0.0,>=7.1.1 in /usr/local/lib/python3.10/dist-packages (from typer<0.10.0,>=0.3.0->spacy) (8.1.7)\n",
            "Requirement already satisfied: cloudpathlib<0.17.0,>=0.7.0 in /usr/local/lib/python3.10/dist-packages (from weasel<0.4.0,>=0.1.0->spacy) (0.16.0)\n",
            "Requirement already satisfied: MarkupSafe>=2.0 in /usr/local/lib/python3.10/dist-packages (from jinja2->spacy) (2.1.5)\n",
            "\u001b[38;5;3m⚠ As of spaCy v3.0, shortcuts like 'en' are deprecated. Please use the\n",
            "full pipeline package name 'en_core_web_sm' instead.\u001b[0m\n",
            "Collecting en-core-web-sm==3.7.1\n",
            "  Downloading https://github.com/explosion/spacy-models/releases/download/en_core_web_sm-3.7.1/en_core_web_sm-3.7.1-py3-none-any.whl (12.8 MB)\n",
            "\u001b[2K     \u001b[90m━━━━━━━━━━━━━━━━━━━━━━━━━━━━━━━━━━━━━━━━\u001b[0m \u001b[32m12.8/12.8 MB\u001b[0m \u001b[31m15.6 MB/s\u001b[0m eta \u001b[36m0:00:00\u001b[0m\n",
            "\u001b[?25hRequirement already satisfied: spacy<3.8.0,>=3.7.2 in /usr/local/lib/python3.10/dist-packages (from en-core-web-sm==3.7.1) (3.7.4)\n",
            "Requirement already satisfied: spacy-legacy<3.1.0,>=3.0.11 in /usr/local/lib/python3.10/dist-packages (from spacy<3.8.0,>=3.7.2->en-core-web-sm==3.7.1) (3.0.12)\n",
            "Requirement already satisfied: spacy-loggers<2.0.0,>=1.0.0 in /usr/local/lib/python3.10/dist-packages (from spacy<3.8.0,>=3.7.2->en-core-web-sm==3.7.1) (1.0.5)\n",
            "Requirement already satisfied: murmurhash<1.1.0,>=0.28.0 in /usr/local/lib/python3.10/dist-packages (from spacy<3.8.0,>=3.7.2->en-core-web-sm==3.7.1) (1.0.10)\n",
            "Requirement already satisfied: cymem<2.1.0,>=2.0.2 in /usr/local/lib/python3.10/dist-packages (from spacy<3.8.0,>=3.7.2->en-core-web-sm==3.7.1) (2.0.8)\n",
            "Requirement already satisfied: preshed<3.1.0,>=3.0.2 in /usr/local/lib/python3.10/dist-packages (from spacy<3.8.0,>=3.7.2->en-core-web-sm==3.7.1) (3.0.9)\n",
            "Requirement already satisfied: thinc<8.3.0,>=8.2.2 in /usr/local/lib/python3.10/dist-packages (from spacy<3.8.0,>=3.7.2->en-core-web-sm==3.7.1) (8.2.3)\n",
            "Requirement already satisfied: wasabi<1.2.0,>=0.9.1 in /usr/local/lib/python3.10/dist-packages (from spacy<3.8.0,>=3.7.2->en-core-web-sm==3.7.1) (1.1.2)\n",
            "Requirement already satisfied: srsly<3.0.0,>=2.4.3 in /usr/local/lib/python3.10/dist-packages (from spacy<3.8.0,>=3.7.2->en-core-web-sm==3.7.1) (2.4.8)\n",
            "Requirement already satisfied: catalogue<2.1.0,>=2.0.6 in /usr/local/lib/python3.10/dist-packages (from spacy<3.8.0,>=3.7.2->en-core-web-sm==3.7.1) (2.0.10)\n",
            "Requirement already satisfied: weasel<0.4.0,>=0.1.0 in /usr/local/lib/python3.10/dist-packages (from spacy<3.8.0,>=3.7.2->en-core-web-sm==3.7.1) (0.3.4)\n",
            "Requirement already satisfied: typer<0.10.0,>=0.3.0 in /usr/local/lib/python3.10/dist-packages (from spacy<3.8.0,>=3.7.2->en-core-web-sm==3.7.1) (0.9.4)\n",
            "Requirement already satisfied: smart-open<7.0.0,>=5.2.1 in /usr/local/lib/python3.10/dist-packages (from spacy<3.8.0,>=3.7.2->en-core-web-sm==3.7.1) (6.4.0)\n",
            "Requirement already satisfied: tqdm<5.0.0,>=4.38.0 in /usr/local/lib/python3.10/dist-packages (from spacy<3.8.0,>=3.7.2->en-core-web-sm==3.7.1) (4.66.2)\n",
            "Requirement already satisfied: requests<3.0.0,>=2.13.0 in /usr/local/lib/python3.10/dist-packages (from spacy<3.8.0,>=3.7.2->en-core-web-sm==3.7.1) (2.31.0)\n",
            "Requirement already satisfied: pydantic!=1.8,!=1.8.1,<3.0.0,>=1.7.4 in /usr/local/lib/python3.10/dist-packages (from spacy<3.8.0,>=3.7.2->en-core-web-sm==3.7.1) (2.6.4)\n",
            "Requirement already satisfied: jinja2 in /usr/local/lib/python3.10/dist-packages (from spacy<3.8.0,>=3.7.2->en-core-web-sm==3.7.1) (3.1.3)\n",
            "Requirement already satisfied: setuptools in /usr/local/lib/python3.10/dist-packages (from spacy<3.8.0,>=3.7.2->en-core-web-sm==3.7.1) (67.7.2)\n",
            "Requirement already satisfied: packaging>=20.0 in /usr/local/lib/python3.10/dist-packages (from spacy<3.8.0,>=3.7.2->en-core-web-sm==3.7.1) (24.0)\n",
            "Requirement already satisfied: langcodes<4.0.0,>=3.2.0 in /usr/local/lib/python3.10/dist-packages (from spacy<3.8.0,>=3.7.2->en-core-web-sm==3.7.1) (3.3.0)\n",
            "Requirement already satisfied: numpy>=1.19.0 in /usr/local/lib/python3.10/dist-packages (from spacy<3.8.0,>=3.7.2->en-core-web-sm==3.7.1) (1.25.2)\n",
            "Requirement already satisfied: annotated-types>=0.4.0 in /usr/local/lib/python3.10/dist-packages (from pydantic!=1.8,!=1.8.1,<3.0.0,>=1.7.4->spacy<3.8.0,>=3.7.2->en-core-web-sm==3.7.1) (0.6.0)\n",
            "Requirement already satisfied: pydantic-core==2.16.3 in /usr/local/lib/python3.10/dist-packages (from pydantic!=1.8,!=1.8.1,<3.0.0,>=1.7.4->spacy<3.8.0,>=3.7.2->en-core-web-sm==3.7.1) (2.16.3)\n",
            "Requirement already satisfied: typing-extensions>=4.6.1 in /usr/local/lib/python3.10/dist-packages (from pydantic!=1.8,!=1.8.1,<3.0.0,>=1.7.4->spacy<3.8.0,>=3.7.2->en-core-web-sm==3.7.1) (4.10.0)\n",
            "Requirement already satisfied: charset-normalizer<4,>=2 in /usr/local/lib/python3.10/dist-packages (from requests<3.0.0,>=2.13.0->spacy<3.8.0,>=3.7.2->en-core-web-sm==3.7.1) (3.3.2)\n",
            "Requirement already satisfied: idna<4,>=2.5 in /usr/local/lib/python3.10/dist-packages (from requests<3.0.0,>=2.13.0->spacy<3.8.0,>=3.7.2->en-core-web-sm==3.7.1) (3.6)\n",
            "Requirement already satisfied: urllib3<3,>=1.21.1 in /usr/local/lib/python3.10/dist-packages (from requests<3.0.0,>=2.13.0->spacy<3.8.0,>=3.7.2->en-core-web-sm==3.7.1) (2.0.7)\n",
            "Requirement already satisfied: certifi>=2017.4.17 in /usr/local/lib/python3.10/dist-packages (from requests<3.0.0,>=2.13.0->spacy<3.8.0,>=3.7.2->en-core-web-sm==3.7.1) (2024.2.2)\n",
            "Requirement already satisfied: blis<0.8.0,>=0.7.8 in /usr/local/lib/python3.10/dist-packages (from thinc<8.3.0,>=8.2.2->spacy<3.8.0,>=3.7.2->en-core-web-sm==3.7.1) (0.7.11)\n",
            "Requirement already satisfied: confection<1.0.0,>=0.0.1 in /usr/local/lib/python3.10/dist-packages (from thinc<8.3.0,>=8.2.2->spacy<3.8.0,>=3.7.2->en-core-web-sm==3.7.1) (0.1.4)\n",
            "Requirement already satisfied: click<9.0.0,>=7.1.1 in /usr/local/lib/python3.10/dist-packages (from typer<0.10.0,>=0.3.0->spacy<3.8.0,>=3.7.2->en-core-web-sm==3.7.1) (8.1.7)\n",
            "Requirement already satisfied: cloudpathlib<0.17.0,>=0.7.0 in /usr/local/lib/python3.10/dist-packages (from weasel<0.4.0,>=0.1.0->spacy<3.8.0,>=3.7.2->en-core-web-sm==3.7.1) (0.16.0)\n",
            "Requirement already satisfied: MarkupSafe>=2.0 in /usr/local/lib/python3.10/dist-packages (from jinja2->spacy<3.8.0,>=3.7.2->en-core-web-sm==3.7.1) (2.1.5)\n",
            "\u001b[38;5;2m✔ Download and installation successful\u001b[0m\n",
            "You can now load the package via spacy.load('en_core_web_sm')\n",
            "\u001b[38;5;3m⚠ Restart to reload dependencies\u001b[0m\n",
            "If you are in a Jupyter or Colab notebook, you may need to restart Python in\n",
            "order to load all the package's dependencies. You can do this by selecting the\n",
            "'Restart kernel' or 'Restart runtime' option.\n"
          ]
        }
      ],
      "source": [
        "!pip install spacy\n",
        "!python -m spacy download en"
      ]
    },
    {
      "cell_type": "code",
      "execution_count": null,
      "metadata": {
        "id": "PlRN6o1oAJ3c"
      },
      "outputs": [],
      "source": [
        "import pandas as pd\n",
        "import numpy as np\n",
        "import spacy\n",
        "from spacy import displacy\n",
        "# graphics import\n",
        "import matplotlib.pyplot as plt\n",
        "import seaborn as sns\n",
        "from yellowbrick.text import FreqDistVisualizer\n",
        "import unidecode\n",
        "from wordcloud import WordCloud,STOPWORDS\n",
        "# string operations\n",
        "import string\n",
        "import re\n",
        "# graphics import\n",
        "import matplotlib.pyplot as plt\n",
        "import seaborn as sns\n",
        "import nltk\n",
        "from nltk.corpus import wordnet as wn\n",
        "from nltk.stem.wordnet import WordNetLemmatizer"
      ]
    },
    {
      "cell_type": "code",
      "execution_count": null,
      "metadata": {
        "id": "UdsoZVeI7_5L"
      },
      "outputs": [],
      "source": [
        "from sklearn.feature_extraction.text import CountVectorizer\n",
        "from sklearn.base import TransformerMixin\n",
        "from sklearn.base import BaseEstimator\n",
        "from sklearn.feature_extraction.text import TfidfVectorizer\n",
        "from sklearn.model_selection import train_test_split\n",
        "from sklearn.naive_bayes import MultinomialNB\n",
        "from sklearn.metrics import f1_score\n",
        "from sklearn.metrics import accuracy_score\n",
        "from sklearn import preprocessing\n",
        "from sklearn.metrics import classification_report\n",
        "from sklearn.pipeline import make_pipeline\n",
        "from sklearn.metrics import accuracy_score, precision_score, recall_score, confusion_matrix\n",
        "from sklearn.linear_model import LogisticRegression\n",
        "from sklearn.pipeline import Pipeline\n",
        "from sklearn.naive_bayes import GaussianNB,MultinomialNB,BernoulliNB\n",
        "\n",
        "from yellowbrick.classifier import ClassificationReport\n",
        "from yellowbrick.classifier import ROCAUC\n",
        "from yellowbrick.classifier import PrecisionRecallCurve\n",
        "from yellowbrick.model_selection import FeatureImportances\n",
        "from yellowbrick.classifier import ConfusionMatrix\n",
        "from yellowbrick.text import FreqDistVisualizer\n",
        "from yellowbrick.text import TSNEVisualizer\n",
        "from yellowbrick.contrib.classifier import DecisionViz\n",
        "from yellowbrick.classifier import DiscriminationThreshold"
      ]
    },
    {
      "cell_type": "code",
      "execution_count": null,
      "metadata": {
        "id": "RYNM4_jBGGbU"
      },
      "outputs": [],
      "source": [
        "import numpy as np\n",
        "import tensorflow as tf\n",
        "from tensorflow.keras import layers"
      ]
    },
    {
      "cell_type": "code",
      "execution_count": null,
      "metadata": {
        "id": "h6FyoA-SPMeI"
      },
      "outputs": [],
      "source": [
        "import spacy\n",
        "from spacy import displacy\n",
        "nlp = spacy.load(\"en_core_web_sm\")"
      ]
    },
    {
      "cell_type": "code",
      "execution_count": null,
      "metadata": {
        "colab": {
          "base_uri": "https://localhost:8080/"
        },
        "id": "Bng0ztzN6Ysa",
        "outputId": "afb23863-6ba0-422f-c18a-a442eb9b0a7c"
      },
      "outputs": [
        {
          "name": "stderr",
          "output_type": "stream",
          "text": [
            "[nltk_data] Downloading package stopwords to /root/nltk_data...\n",
            "[nltk_data]   Package stopwords is already up-to-date!\n"
          ]
        },
        {
          "data": {
            "text/plain": [
              "True"
            ]
          },
          "execution_count": 47,
          "metadata": {},
          "output_type": "execute_result"
        }
      ],
      "source": [
        "# download stopwords\n",
        "nltk.download('stopwords')"
      ]
    },
    {
      "cell_type": "code",
      "execution_count": null,
      "metadata": {
        "id": "rfUk7qvM_PVv"
      },
      "outputs": [],
      "source": [
        "train_dataset = pd.read_csv('/content/drive/MyDrive/Master Project - MCS_AI/Medical-Abstracts-TC-Corpus-main/TrainPreProcessed_Data.csv')\n",
        "train_df = pd.DataFrame(train_dataset)\n",
        "test_dataset = pd.read_csv('/content/drive/MyDrive/Master Project - MCS_AI/Medical-Abstracts-TC-Corpus-main/TestPreProcessed_Data.csv')\n",
        "test_df = pd.DataFrame(test_dataset)"
      ]
    },
    {
      "cell_type": "code",
      "execution_count": null,
      "metadata": {
        "colab": {
          "base_uri": "https://localhost:8080/"
        },
        "id": "GUzfRAtWALJh",
        "outputId": "fcee6fdd-7439-4799-c0cb-a458f5777209"
      },
      "outputs": [
        {
          "name": "stdout",
          "output_type": "stream",
          "text": [
            "<class 'pandas.core.frame.DataFrame'>\n",
            "RangeIndex: 2888 entries, 0 to 2887\n",
            "Data columns (total 6 columns):\n",
            " #   Column               Non-Null Count  Dtype \n",
            "---  ------               --------------  ----- \n",
            " 0   condition_label      2888 non-null   object\n",
            " 1   medical_abstract     2888 non-null   object\n",
            " 2   medical_abstract_lw  2888 non-null   object\n",
            " 3   medical_abstract_cl  2888 non-null   object\n",
            " 4   medical_abstract_lm  2888 non-null   object\n",
            " 5   medical_abstract_sw  2888 non-null   object\n",
            "dtypes: object(6)\n",
            "memory usage: 135.5+ KB\n"
          ]
        }
      ],
      "source": [
        "test_df.info()"
      ]
    },
    {
      "cell_type": "code",
      "execution_count": null,
      "metadata": {
        "colab": {
          "base_uri": "https://localhost:8080/"
        },
        "id": "UXts5xeUj0TN",
        "outputId": "61523b72-0108-459f-c4fe-7eca6a6d9997"
      },
      "outputs": [
        {
          "name": "stdout",
          "output_type": "stream",
          "text": [
            "<class 'pandas.core.frame.DataFrame'>\n",
            "RangeIndex: 11550 entries, 0 to 11549\n",
            "Data columns (total 6 columns):\n",
            " #   Column               Non-Null Count  Dtype \n",
            "---  ------               --------------  ----- \n",
            " 0   condition_label      11550 non-null  object\n",
            " 1   medical_abstract     11550 non-null  object\n",
            " 2   medical_abstract_lw  11550 non-null  object\n",
            " 3   medical_abstract_cl  11550 non-null  object\n",
            " 4   medical_abstract_lm  11550 non-null  object\n",
            " 5   medical_abstract_sw  11550 non-null  object\n",
            "dtypes: object(6)\n",
            "memory usage: 541.5+ KB\n"
          ]
        }
      ],
      "source": [
        "train_df.info()"
      ]
    },
    {
      "cell_type": "code",
      "execution_count": null,
      "metadata": {
        "colab": {
          "base_uri": "https://localhost:8080/",
          "height": 488
        },
        "id": "IVON_6R0ANOc",
        "outputId": "eac6348d-0489-469e-90a4-b37297ef5df9"
      },
      "outputs": [
        {
          "data": {
            "application/vnd.google.colaboratory.intrinsic+json": {
              "summary": "{\n  \"name\": \"train_df\",\n  \"rows\": 11550,\n  \"fields\": [\n    {\n      \"column\": \"condition_label\",\n      \"properties\": {\n        \"dtype\": \"category\",\n        \"num_unique_values\": 5,\n        \"samples\": [\n          \"Neoplasms\",\n          \"Cardiovascular diseases\",\n          \"Digestive system diseases\"\n        ],\n        \"semantic_type\": \"\",\n        \"description\": \"\"\n      }\n    },\n    {\n      \"column\": \"medical_abstract\",\n      \"properties\": {\n        \"dtype\": \"string\",\n        \"num_unique_values\": 9445,\n        \"samples\": [\n          \"Magnetic resonance angiography of abdominal vessels: early experience using the three-dimensional phase-contrast technique. Based on three-dimensional acquisition of three sequences sensitive to one flow-direction, abdominal magnetic resonance phase-contrast angiography (MRA) was performed in 13 volunteers and 20 patients. The subjects received no antiperistaltic medication and were allowed to breath normally during the three acquisition periods of 11 minutes. The frequency of demonstration of the normal aorta, superior mesenteric and right and left renal arteries was 100%/100%/91%/100%, and of the inferior vena cava, splenic, superior mesenteric and portal veins was 92%/67%/92%/100%, respectively, whereas other abdominal vessels were seen less constantly. In renal artery stenosis or occlusion, MRA detected eight out of nine pathological arteries, missed only a minimal stenosis and was never false positive. In all 10 cases of portal hypertension, MRA demonstrated the venous collaterals detected by conventional angiography and in six cases showed more collaterals, particularly paravertebral vessels. A Budd-Chiari syndrome was investigated as well. If the accuracy of MRA can be proved in larger studies, it may become an important diagnostic tool in evaluating abdominal vascular pathology, such as renal artery stenosis or portal hypertension. \",\n          \"Human ehrlichiosis: a rickettsial disease associated with severe cholestasis and multisystemic disease. We report an unusual case of a typically canine rickettsial disease, ehrlichiosis, in a 56-year-old man. Although only occasionally affecting humans with a mild illness, exposure to a tick bite in our patient led to severe multisystemic disease with intense cholestasis. Coma, acute renal failure and respiratory failure requiring mechanical ventilation ensued. Imaging procedures showed no biliary obstruction. A liver biopsy demonstrated bile stasis and sinusoidal lymphoid infiltrates. The diagnosis was confirmed serologically. Only partial improvement occurred with tetracycline therapy, but total resolution of all abnormalities eventually followed therapy with chloramphenicol. \",\n          \"Transesophageal echocardiography in critically ill patients. The feasibility, safety and clinical impact of transesophageal echocardiography were evaluated in 51 critically ill intensive care unit patients (28 men and 23 women; mean age 63 years) in whom transthoracic echocardiography was inadequate. At the time of transesophageal echocardiography, 30 patients (59%) were being mechanically ventilated. Transesophageal echocardiography was performed without significant complications in 49 patients (96%), and 2 patients with heart failure had worsening of hemodynamic and respiratory difficulties after insertion of the transesophageal probe. The most frequent indication, in 25 patients (49%), was unexplained hemodynamic instability. Other indications included evaluation of mitral regurgitation severity, prosthetic valvular dysfunction, endocarditis, aortic dissection and potential donor heart. In 30 patients (59%), transesophageal echocardiography identified cardiovascular problems that could not be clearly diagnosed by transthoracic echocardiography. In the remaining patients, transesophageal echocardiography permitted confident exclusion of suspected abnormalities because of its superior imaging qualities. Cardiac surgery was prompted by transesophageal echocardiographic findings in 12 patients (24%) and these findings were confirmed at operation in all. Therefore, transesophageal echocardiography can be safely performed and has a definite role in the diagnosis and expeditious management of critically ill cardiovascular patients. \"\n        ],\n        \"semantic_type\": \"\",\n        \"description\": \"\"\n      }\n    },\n    {\n      \"column\": \"medical_abstract_lw\",\n      \"properties\": {\n        \"dtype\": \"string\",\n        \"num_unique_values\": 9445,\n        \"samples\": [\n          \"magnetic resonance angiography of abdominal vessels: early experience using the three-dimensional phase-contrast technique. based on three-dimensional acquisition of three sequences sensitive to one flow-direction, abdominal magnetic resonance phase-contrast angiography (mra) was performed in 13 volunteers and 20 patients. the subjects received no antiperistaltic medication and were allowed to breath normally during the three acquisition periods of 11 minutes. the frequency of demonstration of the normal aorta, superior mesenteric and right and left renal arteries was 100%/100%/91%/100%, and of the inferior vena cava, splenic, superior mesenteric and portal veins was 92%/67%/92%/100%, respectively, whereas other abdominal vessels were seen less constantly. in renal artery stenosis or occlusion, mra detected eight out of nine pathological arteries, missed only a minimal stenosis and was never false positive. in all 10 cases of portal hypertension, mra demonstrated the venous collaterals detected by conventional angiography and in six cases showed more collaterals, particularly paravertebral vessels. a budd-chiari syndrome was investigated as well. if the accuracy of mra can be proved in larger studies, it may become an important diagnostic tool in evaluating abdominal vascular pathology, such as renal artery stenosis or portal hypertension. \",\n          \"human ehrlichiosis: a rickettsial disease associated with severe cholestasis and multisystemic disease. we report an unusual case of a typically canine rickettsial disease, ehrlichiosis, in a 56-year-old man. although only occasionally affecting humans with a mild illness, exposure to a tick bite in our patient led to severe multisystemic disease with intense cholestasis. coma, acute renal failure and respiratory failure requiring mechanical ventilation ensued. imaging procedures showed no biliary obstruction. a liver biopsy demonstrated bile stasis and sinusoidal lymphoid infiltrates. the diagnosis was confirmed serologically. only partial improvement occurred with tetracycline therapy, but total resolution of all abnormalities eventually followed therapy with chloramphenicol. \",\n          \"transesophageal echocardiography in critically ill patients. the feasibility, safety and clinical impact of transesophageal echocardiography were evaluated in 51 critically ill intensive care unit patients (28 men and 23 women; mean age 63 years) in whom transthoracic echocardiography was inadequate. at the time of transesophageal echocardiography, 30 patients (59%) were being mechanically ventilated. transesophageal echocardiography was performed without significant complications in 49 patients (96%), and 2 patients with heart failure had worsening of hemodynamic and respiratory difficulties after insertion of the transesophageal probe. the most frequent indication, in 25 patients (49%), was unexplained hemodynamic instability. other indications included evaluation of mitral regurgitation severity, prosthetic valvular dysfunction, endocarditis, aortic dissection and potential donor heart. in 30 patients (59%), transesophageal echocardiography identified cardiovascular problems that could not be clearly diagnosed by transthoracic echocardiography. in the remaining patients, transesophageal echocardiography permitted confident exclusion of suspected abnormalities because of its superior imaging qualities. cardiac surgery was prompted by transesophageal echocardiographic findings in 12 patients (24%) and these findings were confirmed at operation in all. therefore, transesophageal echocardiography can be safely performed and has a definite role in the diagnosis and expeditious management of critically ill cardiovascular patients. \"\n        ],\n        \"semantic_type\": \"\",\n        \"description\": \"\"\n      }\n    },\n    {\n      \"column\": \"medical_abstract_cl\",\n      \"properties\": {\n        \"dtype\": \"string\",\n        \"num_unique_values\": 9444,\n        \"samples\": [\n          \"ventricular stroke work loss validation method quantifying severity aortic stenosis derivation orifice formula aortic stenosis results loss left ventricular stroke work due resistance flow valve turbulence aorta percentage stroke work lost may reflect severity stenosis index calculated pressure data alone relation percent stroke work loss anatomic aortic valve orifice area measured planimetry videotape investigated pulsatile flow model thirteen valves studied nine human aortic valves obtained necropsy four bioprosthetic valves stroke volumes ml giving data points valve area ranged mean systolic pressure gradient mm hg percent stroke work loss calculated mean systolic pressure gradient divided mean ventricular systolic pressure x ranged closely related anatomic orifice area inverse exponential relation significantly related flow r orifice formula derived predicted anatomic orifice area confidence interval orifice area r see results support clinical use percent stroke work loss easily obtained index severity aortic stenosis\",\n          \"percutaneous transluminal coronary angioplasty anomalous right coronary artery coronary angioplasty tortuous anomalous coronary arteries technically challenging describe successful percutaneous transluminal coronary angioplasty ptca anomalous right coronary artery failed previous attempt anatomic limitations anomalous right coronary arteries technical considerations ptca discussed\",\n          \"haemangiopericytoma temporal bone haemangiopericytoma uncommon vascular tumour widespread distribution although meningeal involvement well recognized sporadic cases temporal bone lesions documented doubtful sites origin late presentation together restrictive anatomy region often precludes effective removal even minimal residual disease may progress rapidly series three patients presented order discuss natural history histological features treatment disease\"\n        ],\n        \"semantic_type\": \"\",\n        \"description\": \"\"\n      }\n    },\n    {\n      \"column\": \"medical_abstract_lm\",\n      \"properties\": {\n        \"dtype\": \"string\",\n        \"num_unique_values\": 9444,\n        \"samples\": [\n          \"ventricular stroke work loss validation method quantifying severity aortic stenosis derivation orifice formula aortic stenosis results loss left ventricular stroke work due resistance flow valve turbulence aorta percentage stroke work lost may reflect severity stenosis index calculated pressure data alone relation percent stroke work loss anatomic aortic valve orifice area measured planimetry videotape investigated pulsatile flow model thirteen valves studied nine human aortic valves obtained necropsy four bioprosthetic valves stroke volumes ml giving data points valve area ranged mean systolic pressure gradient mm hg percent stroke work loss calculated mean systolic pressure gradient divided mean ventricular systolic pressure x ranged closely related anatomic orifice area inverse exponential relation significantly related flow r orifice formula derived predicted anatomic orifice area confidence interval orifice area r see results support clinical use percent stroke work loss easily obtained index severity aortic stenosis\",\n          \"percutaneous transluminal coronary angioplasty anomalous right coronary artery coronary angioplasty tortuous anomalous coronary arteries technically challenging describe successful percutaneous transluminal coronary angioplasty ptca anomalous right coronary artery failed previous attempt anatomic limitations anomalous right coronary arteries technical considerations ptca discussed\",\n          \"haemangiopericytoma temporal bone haemangiopericytoma uncommon vascular tumour widespread distribution although meningeal involvement well recognized sporadic cases temporal bone lesions documented doubtful sites origin late presentation together restrictive anatomy region often precludes effective removal even minimal residual disease may progress rapidly series three patients presented order discuss natural history histological features treatment disease\"\n        ],\n        \"semantic_type\": \"\",\n        \"description\": \"\"\n      }\n    },\n    {\n      \"column\": \"medical_abstract_sw\",\n      \"properties\": {\n        \"dtype\": \"string\",\n        \"num_unique_values\": 9444,\n        \"samples\": [\n          \"ventricular stroke work loss validation method quantifying severity aortic stenosis derivation orifice formula aortic stenosis results loss left ventricular stroke work due resistance flow valve turbulence aorta percentage stroke work lost may reflect severity stenosis index calculated pressure data alone relation percent stroke work loss anatomic aortic valve orifice area measured planimetry videotape investigated pulsatile flow model thirteen valves studied nine human aortic valves obtained necropsy four bioprosthetic valves stroke volumes ml giving data points valve area ranged mean systolic pressure gradient mm hg percent stroke work loss calculated mean systolic pressure gradient divided mean ventricular systolic pressure x ranged closely related anatomic orifice area inverse exponential relation significantly related flow r orifice formula derived predicted anatomic orifice area confidence interval orifice area r see results support clinical use percent stroke work loss easily obtained index severity aortic stenosis\",\n          \"percutaneous transluminal coronary angioplasty anomalous right coronary artery coronary angioplasty tortuous anomalous coronary arteries technically challenging describe successful percutaneous transluminal coronary angioplasty ptca anomalous right coronary artery failed previous attempt anatomic limitations anomalous right coronary arteries technical considerations ptca discussed\",\n          \"haemangiopericytoma temporal bone haemangiopericytoma uncommon vascular tumour widespread distribution although meningeal involvement well recognized sporadic cases temporal bone lesions documented doubtful sites origin late presentation together restrictive anatomy region often precludes effective removal even minimal residual disease may progress rapidly series three patients presented order discuss natural history histological features treatment disease\"\n        ],\n        \"semantic_type\": \"\",\n        \"description\": \"\"\n      }\n    }\n  ]\n}",
              "type": "dataframe",
              "variable_name": "train_df"
            },
            "text/html": [
              "\n",
              "  <div id=\"df-af68065e-8fb1-4fed-a704-9972d92c45b9\" class=\"colab-df-container\">\n",
              "    <div>\n",
              "<style scoped>\n",
              "    .dataframe tbody tr th:only-of-type {\n",
              "        vertical-align: middle;\n",
              "    }\n",
              "\n",
              "    .dataframe tbody tr th {\n",
              "        vertical-align: top;\n",
              "    }\n",
              "\n",
              "    .dataframe thead th {\n",
              "        text-align: right;\n",
              "    }\n",
              "</style>\n",
              "<table border=\"1\" class=\"dataframe\">\n",
              "  <thead>\n",
              "    <tr style=\"text-align: right;\">\n",
              "      <th></th>\n",
              "      <th>condition_label</th>\n",
              "      <th>medical_abstract</th>\n",
              "      <th>medical_abstract_lw</th>\n",
              "      <th>medical_abstract_cl</th>\n",
              "      <th>medical_abstract_lm</th>\n",
              "      <th>medical_abstract_sw</th>\n",
              "    </tr>\n",
              "  </thead>\n",
              "  <tbody>\n",
              "    <tr>\n",
              "      <th>0</th>\n",
              "      <td>General pathological conditions</td>\n",
              "      <td>Tissue changes around loose prostheses. A cani...</td>\n",
              "      <td>tissue changes around loose prostheses. a cani...</td>\n",
              "      <td>tissue changes around loose prostheses canine ...</td>\n",
              "      <td>tissue changes around loose prostheses canine ...</td>\n",
              "      <td>tissue changes around loose prostheses canine ...</td>\n",
              "    </tr>\n",
              "    <tr>\n",
              "      <th>1</th>\n",
              "      <td>Neoplasms</td>\n",
              "      <td>Neuropeptide Y and neuron-specific enolase lev...</td>\n",
              "      <td>neuropeptide y and neuron-specific enolase lev...</td>\n",
              "      <td>neuropeptide neuronspecific enolase levels ben...</td>\n",
              "      <td>neuropeptide neuronspecific enolase levels ben...</td>\n",
              "      <td>neuropeptide neuronspecific enolase levels ben...</td>\n",
              "    </tr>\n",
              "    <tr>\n",
              "      <th>2</th>\n",
              "      <td>Digestive system diseases</td>\n",
              "      <td>Sexually transmitted diseases of the colon, re...</td>\n",
              "      <td>sexually transmitted diseases of the colon, re...</td>\n",
              "      <td>sexually transmitted diseases colon rectum anu...</td>\n",
              "      <td>sexually transmitted diseases colon rectum anu...</td>\n",
              "      <td>sexually transmitted diseases colon rectum anu...</td>\n",
              "    </tr>\n",
              "    <tr>\n",
              "      <th>3</th>\n",
              "      <td>Neoplasms</td>\n",
              "      <td>Lipolytic factors associated with murine and h...</td>\n",
              "      <td>lipolytic factors associated with murine and h...</td>\n",
              "      <td>lipolytic factors associated murine human canc...</td>\n",
              "      <td>lipolytic factors associated murine human canc...</td>\n",
              "      <td>lipolytic factors associated murine human canc...</td>\n",
              "    </tr>\n",
              "    <tr>\n",
              "      <th>4</th>\n",
              "      <td>Nervous system diseases</td>\n",
              "      <td>Does carotid restenosis predict an increased r...</td>\n",
              "      <td>does carotid restenosis predict an increased r...</td>\n",
              "      <td>carotid restenosis predict increased risk late...</td>\n",
              "      <td>carotid restenosis predict increased risk late...</td>\n",
              "      <td>carotid restenosis predict increased risk late...</td>\n",
              "    </tr>\n",
              "    <tr>\n",
              "      <th>5</th>\n",
              "      <td>Nervous system diseases</td>\n",
              "      <td>The shoulder in multiple epiphyseal dysplasia....</td>\n",
              "      <td>the shoulder in multiple epiphyseal dysplasia....</td>\n",
              "      <td>shoulder multiple epiphyseal dysplasia one hun...</td>\n",
              "      <td>shoulder multiple epiphyseal dysplasia one hun...</td>\n",
              "      <td>shoulder multiple epiphyseal dysplasia one hun...</td>\n",
              "    </tr>\n",
              "    <tr>\n",
              "      <th>6</th>\n",
              "      <td>Digestive system diseases</td>\n",
              "      <td>The management of postoperative chylous ascite...</td>\n",
              "      <td>the management of postoperative chylous ascite...</td>\n",
              "      <td>management postoperative chylous ascites case ...</td>\n",
              "      <td>management postoperative chylous ascites case ...</td>\n",
              "      <td>management postoperative chylous ascites case ...</td>\n",
              "    </tr>\n",
              "    <tr>\n",
              "      <th>7</th>\n",
              "      <td>Cardiovascular diseases</td>\n",
              "      <td>Pharmacomechanical thrombolysis and angioplast...</td>\n",
              "      <td>pharmacomechanical thrombolysis and angioplast...</td>\n",
              "      <td>pharmacomechanical thrombolysis angioplasty ma...</td>\n",
              "      <td>pharmacomechanical thrombolysis angioplasty ma...</td>\n",
              "      <td>pharmacomechanical thrombolysis angioplasty ma...</td>\n",
              "    </tr>\n",
              "    <tr>\n",
              "      <th>8</th>\n",
              "      <td>General pathological conditions</td>\n",
              "      <td>Color Doppler diagnosis of mechanical prosthet...</td>\n",
              "      <td>color doppler diagnosis of mechanical prosthet...</td>\n",
              "      <td>color doppler diagnosis mechanical prosthetic ...</td>\n",
              "      <td>color doppler diagnosis mechanical prosthetic ...</td>\n",
              "      <td>color doppler diagnosis mechanical prosthetic ...</td>\n",
              "    </tr>\n",
              "    <tr>\n",
              "      <th>9</th>\n",
              "      <td>General pathological conditions</td>\n",
              "      <td>Noninvasive diagnosis of right-sided extracard...</td>\n",
              "      <td>noninvasive diagnosis of right-sided extracard...</td>\n",
              "      <td>noninvasive diagnosis rightsided extracardiac ...</td>\n",
              "      <td>noninvasive diagnosis rightsided extracardiac ...</td>\n",
              "      <td>noninvasive diagnosis rightsided extracardiac ...</td>\n",
              "    </tr>\n",
              "    <tr>\n",
              "      <th>10</th>\n",
              "      <td>Cardiovascular diseases</td>\n",
              "      <td>Sodium sensitive and sodium retaining hyperten...</td>\n",
              "      <td>sodium sensitive and sodium retaining hyperten...</td>\n",
              "      <td>sodium sensitive sodium retaining hypertension...</td>\n",
              "      <td>sodium sensitive sodium retaining hypertension...</td>\n",
              "      <td>sodium sensitive sodium retaining hypertension...</td>\n",
              "    </tr>\n",
              "    <tr>\n",
              "      <th>11</th>\n",
              "      <td>Neoplasms</td>\n",
              "      <td>Imaging bone tumors in the 1990s. Progress in ...</td>\n",
              "      <td>imaging bone tumors in the 1990s. progress in ...</td>\n",
              "      <td>imaging bone tumors progress bone tumor manage...</td>\n",
              "      <td>imaging bone tumors progress bone tumor manage...</td>\n",
              "      <td>imaging bone tumors progress bone tumor manage...</td>\n",
              "    </tr>\n",
              "    <tr>\n",
              "      <th>12</th>\n",
              "      <td>General pathological conditions</td>\n",
              "      <td>Closure of a bronchopleural fistula with bronc...</td>\n",
              "      <td>closure of a bronchopleural fistula with bronc...</td>\n",
              "      <td>closure bronchopleural fistula bronchoscopic i...</td>\n",
              "      <td>closure bronchopleural fistula bronchoscopic i...</td>\n",
              "      <td>closure bronchopleural fistula bronchoscopic i...</td>\n",
              "    </tr>\n",
              "    <tr>\n",
              "      <th>13</th>\n",
              "      <td>Neoplasms</td>\n",
              "      <td>Utility of frozen-section evaluation of lymph ...</td>\n",
              "      <td>utility of frozen-section evaluation of lymph ...</td>\n",
              "      <td>utility frozensection evaluation lymph nodes s...</td>\n",
              "      <td>utility frozensection evaluation lymph nodes s...</td>\n",
              "      <td>utility frozensection evaluation lymph nodes s...</td>\n",
              "    </tr>\n",
              "  </tbody>\n",
              "</table>\n",
              "</div>\n",
              "    <div class=\"colab-df-buttons\">\n",
              "\n",
              "  <div class=\"colab-df-container\">\n",
              "    <button class=\"colab-df-convert\" onclick=\"convertToInteractive('df-af68065e-8fb1-4fed-a704-9972d92c45b9')\"\n",
              "            title=\"Convert this dataframe to an interactive table.\"\n",
              "            style=\"display:none;\">\n",
              "\n",
              "  <svg xmlns=\"http://www.w3.org/2000/svg\" height=\"24px\" viewBox=\"0 -960 960 960\">\n",
              "    <path d=\"M120-120v-720h720v720H120Zm60-500h600v-160H180v160Zm220 220h160v-160H400v160Zm0 220h160v-160H400v160ZM180-400h160v-160H180v160Zm440 0h160v-160H620v160ZM180-180h160v-160H180v160Zm440 0h160v-160H620v160Z\"/>\n",
              "  </svg>\n",
              "    </button>\n",
              "\n",
              "  <style>\n",
              "    .colab-df-container {\n",
              "      display:flex;\n",
              "      gap: 12px;\n",
              "    }\n",
              "\n",
              "    .colab-df-convert {\n",
              "      background-color: #E8F0FE;\n",
              "      border: none;\n",
              "      border-radius: 50%;\n",
              "      cursor: pointer;\n",
              "      display: none;\n",
              "      fill: #1967D2;\n",
              "      height: 32px;\n",
              "      padding: 0 0 0 0;\n",
              "      width: 32px;\n",
              "    }\n",
              "\n",
              "    .colab-df-convert:hover {\n",
              "      background-color: #E2EBFA;\n",
              "      box-shadow: 0px 1px 2px rgba(60, 64, 67, 0.3), 0px 1px 3px 1px rgba(60, 64, 67, 0.15);\n",
              "      fill: #174EA6;\n",
              "    }\n",
              "\n",
              "    .colab-df-buttons div {\n",
              "      margin-bottom: 4px;\n",
              "    }\n",
              "\n",
              "    [theme=dark] .colab-df-convert {\n",
              "      background-color: #3B4455;\n",
              "      fill: #D2E3FC;\n",
              "    }\n",
              "\n",
              "    [theme=dark] .colab-df-convert:hover {\n",
              "      background-color: #434B5C;\n",
              "      box-shadow: 0px 1px 3px 1px rgba(0, 0, 0, 0.15);\n",
              "      filter: drop-shadow(0px 1px 2px rgba(0, 0, 0, 0.3));\n",
              "      fill: #FFFFFF;\n",
              "    }\n",
              "  </style>\n",
              "\n",
              "    <script>\n",
              "      const buttonEl =\n",
              "        document.querySelector('#df-af68065e-8fb1-4fed-a704-9972d92c45b9 button.colab-df-convert');\n",
              "      buttonEl.style.display =\n",
              "        google.colab.kernel.accessAllowed ? 'block' : 'none';\n",
              "\n",
              "      async function convertToInteractive(key) {\n",
              "        const element = document.querySelector('#df-af68065e-8fb1-4fed-a704-9972d92c45b9');\n",
              "        const dataTable =\n",
              "          await google.colab.kernel.invokeFunction('convertToInteractive',\n",
              "                                                    [key], {});\n",
              "        if (!dataTable) return;\n",
              "\n",
              "        const docLinkHtml = 'Like what you see? Visit the ' +\n",
              "          '<a target=\"_blank\" href=https://colab.research.google.com/notebooks/data_table.ipynb>data table notebook</a>'\n",
              "          + ' to learn more about interactive tables.';\n",
              "        element.innerHTML = '';\n",
              "        dataTable['output_type'] = 'display_data';\n",
              "        await google.colab.output.renderOutput(dataTable, element);\n",
              "        const docLink = document.createElement('div');\n",
              "        docLink.innerHTML = docLinkHtml;\n",
              "        element.appendChild(docLink);\n",
              "      }\n",
              "    </script>\n",
              "  </div>\n",
              "\n",
              "\n",
              "<div id=\"df-acf58c96-cd17-43b7-9791-377f2759f584\">\n",
              "  <button class=\"colab-df-quickchart\" onclick=\"quickchart('df-acf58c96-cd17-43b7-9791-377f2759f584')\"\n",
              "            title=\"Suggest charts\"\n",
              "            style=\"display:none;\">\n",
              "\n",
              "<svg xmlns=\"http://www.w3.org/2000/svg\" height=\"24px\"viewBox=\"0 0 24 24\"\n",
              "     width=\"24px\">\n",
              "    <g>\n",
              "        <path d=\"M19 3H5c-1.1 0-2 .9-2 2v14c0 1.1.9 2 2 2h14c1.1 0 2-.9 2-2V5c0-1.1-.9-2-2-2zM9 17H7v-7h2v7zm4 0h-2V7h2v10zm4 0h-2v-4h2v4z\"/>\n",
              "    </g>\n",
              "</svg>\n",
              "  </button>\n",
              "\n",
              "<style>\n",
              "  .colab-df-quickchart {\n",
              "      --bg-color: #E8F0FE;\n",
              "      --fill-color: #1967D2;\n",
              "      --hover-bg-color: #E2EBFA;\n",
              "      --hover-fill-color: #174EA6;\n",
              "      --disabled-fill-color: #AAA;\n",
              "      --disabled-bg-color: #DDD;\n",
              "  }\n",
              "\n",
              "  [theme=dark] .colab-df-quickchart {\n",
              "      --bg-color: #3B4455;\n",
              "      --fill-color: #D2E3FC;\n",
              "      --hover-bg-color: #434B5C;\n",
              "      --hover-fill-color: #FFFFFF;\n",
              "      --disabled-bg-color: #3B4455;\n",
              "      --disabled-fill-color: #666;\n",
              "  }\n",
              "\n",
              "  .colab-df-quickchart {\n",
              "    background-color: var(--bg-color);\n",
              "    border: none;\n",
              "    border-radius: 50%;\n",
              "    cursor: pointer;\n",
              "    display: none;\n",
              "    fill: var(--fill-color);\n",
              "    height: 32px;\n",
              "    padding: 0;\n",
              "    width: 32px;\n",
              "  }\n",
              "\n",
              "  .colab-df-quickchart:hover {\n",
              "    background-color: var(--hover-bg-color);\n",
              "    box-shadow: 0 1px 2px rgba(60, 64, 67, 0.3), 0 1px 3px 1px rgba(60, 64, 67, 0.15);\n",
              "    fill: var(--button-hover-fill-color);\n",
              "  }\n",
              "\n",
              "  .colab-df-quickchart-complete:disabled,\n",
              "  .colab-df-quickchart-complete:disabled:hover {\n",
              "    background-color: var(--disabled-bg-color);\n",
              "    fill: var(--disabled-fill-color);\n",
              "    box-shadow: none;\n",
              "  }\n",
              "\n",
              "  .colab-df-spinner {\n",
              "    border: 2px solid var(--fill-color);\n",
              "    border-color: transparent;\n",
              "    border-bottom-color: var(--fill-color);\n",
              "    animation:\n",
              "      spin 1s steps(1) infinite;\n",
              "  }\n",
              "\n",
              "  @keyframes spin {\n",
              "    0% {\n",
              "      border-color: transparent;\n",
              "      border-bottom-color: var(--fill-color);\n",
              "      border-left-color: var(--fill-color);\n",
              "    }\n",
              "    20% {\n",
              "      border-color: transparent;\n",
              "      border-left-color: var(--fill-color);\n",
              "      border-top-color: var(--fill-color);\n",
              "    }\n",
              "    30% {\n",
              "      border-color: transparent;\n",
              "      border-left-color: var(--fill-color);\n",
              "      border-top-color: var(--fill-color);\n",
              "      border-right-color: var(--fill-color);\n",
              "    }\n",
              "    40% {\n",
              "      border-color: transparent;\n",
              "      border-right-color: var(--fill-color);\n",
              "      border-top-color: var(--fill-color);\n",
              "    }\n",
              "    60% {\n",
              "      border-color: transparent;\n",
              "      border-right-color: var(--fill-color);\n",
              "    }\n",
              "    80% {\n",
              "      border-color: transparent;\n",
              "      border-right-color: var(--fill-color);\n",
              "      border-bottom-color: var(--fill-color);\n",
              "    }\n",
              "    90% {\n",
              "      border-color: transparent;\n",
              "      border-bottom-color: var(--fill-color);\n",
              "    }\n",
              "  }\n",
              "</style>\n",
              "\n",
              "  <script>\n",
              "    async function quickchart(key) {\n",
              "      const quickchartButtonEl =\n",
              "        document.querySelector('#' + key + ' button');\n",
              "      quickchartButtonEl.disabled = true;  // To prevent multiple clicks.\n",
              "      quickchartButtonEl.classList.add('colab-df-spinner');\n",
              "      try {\n",
              "        const charts = await google.colab.kernel.invokeFunction(\n",
              "            'suggestCharts', [key], {});\n",
              "      } catch (error) {\n",
              "        console.error('Error during call to suggestCharts:', error);\n",
              "      }\n",
              "      quickchartButtonEl.classList.remove('colab-df-spinner');\n",
              "      quickchartButtonEl.classList.add('colab-df-quickchart-complete');\n",
              "    }\n",
              "    (() => {\n",
              "      let quickchartButtonEl =\n",
              "        document.querySelector('#df-acf58c96-cd17-43b7-9791-377f2759f584 button');\n",
              "      quickchartButtonEl.style.display =\n",
              "        google.colab.kernel.accessAllowed ? 'block' : 'none';\n",
              "    })();\n",
              "  </script>\n",
              "</div>\n",
              "\n",
              "    </div>\n",
              "  </div>\n"
            ],
            "text/plain": [
              "                    condition_label  \\\n",
              "0   General pathological conditions   \n",
              "1                         Neoplasms   \n",
              "2         Digestive system diseases   \n",
              "3                         Neoplasms   \n",
              "4           Nervous system diseases   \n",
              "5           Nervous system diseases   \n",
              "6         Digestive system diseases   \n",
              "7           Cardiovascular diseases   \n",
              "8   General pathological conditions   \n",
              "9   General pathological conditions   \n",
              "10          Cardiovascular diseases   \n",
              "11                        Neoplasms   \n",
              "12  General pathological conditions   \n",
              "13                        Neoplasms   \n",
              "\n",
              "                                     medical_abstract  \\\n",
              "0   Tissue changes around loose prostheses. A cani...   \n",
              "1   Neuropeptide Y and neuron-specific enolase lev...   \n",
              "2   Sexually transmitted diseases of the colon, re...   \n",
              "3   Lipolytic factors associated with murine and h...   \n",
              "4   Does carotid restenosis predict an increased r...   \n",
              "5   The shoulder in multiple epiphyseal dysplasia....   \n",
              "6   The management of postoperative chylous ascite...   \n",
              "7   Pharmacomechanical thrombolysis and angioplast...   \n",
              "8   Color Doppler diagnosis of mechanical prosthet...   \n",
              "9   Noninvasive diagnosis of right-sided extracard...   \n",
              "10  Sodium sensitive and sodium retaining hyperten...   \n",
              "11  Imaging bone tumors in the 1990s. Progress in ...   \n",
              "12  Closure of a bronchopleural fistula with bronc...   \n",
              "13  Utility of frozen-section evaluation of lymph ...   \n",
              "\n",
              "                                  medical_abstract_lw  \\\n",
              "0   tissue changes around loose prostheses. a cani...   \n",
              "1   neuropeptide y and neuron-specific enolase lev...   \n",
              "2   sexually transmitted diseases of the colon, re...   \n",
              "3   lipolytic factors associated with murine and h...   \n",
              "4   does carotid restenosis predict an increased r...   \n",
              "5   the shoulder in multiple epiphyseal dysplasia....   \n",
              "6   the management of postoperative chylous ascite...   \n",
              "7   pharmacomechanical thrombolysis and angioplast...   \n",
              "8   color doppler diagnosis of mechanical prosthet...   \n",
              "9   noninvasive diagnosis of right-sided extracard...   \n",
              "10  sodium sensitive and sodium retaining hyperten...   \n",
              "11  imaging bone tumors in the 1990s. progress in ...   \n",
              "12  closure of a bronchopleural fistula with bronc...   \n",
              "13  utility of frozen-section evaluation of lymph ...   \n",
              "\n",
              "                                  medical_abstract_cl  \\\n",
              "0   tissue changes around loose prostheses canine ...   \n",
              "1   neuropeptide neuronspecific enolase levels ben...   \n",
              "2   sexually transmitted diseases colon rectum anu...   \n",
              "3   lipolytic factors associated murine human canc...   \n",
              "4   carotid restenosis predict increased risk late...   \n",
              "5   shoulder multiple epiphyseal dysplasia one hun...   \n",
              "6   management postoperative chylous ascites case ...   \n",
              "7   pharmacomechanical thrombolysis angioplasty ma...   \n",
              "8   color doppler diagnosis mechanical prosthetic ...   \n",
              "9   noninvasive diagnosis rightsided extracardiac ...   \n",
              "10  sodium sensitive sodium retaining hypertension...   \n",
              "11  imaging bone tumors progress bone tumor manage...   \n",
              "12  closure bronchopleural fistula bronchoscopic i...   \n",
              "13  utility frozensection evaluation lymph nodes s...   \n",
              "\n",
              "                                  medical_abstract_lm  \\\n",
              "0   tissue changes around loose prostheses canine ...   \n",
              "1   neuropeptide neuronspecific enolase levels ben...   \n",
              "2   sexually transmitted diseases colon rectum anu...   \n",
              "3   lipolytic factors associated murine human canc...   \n",
              "4   carotid restenosis predict increased risk late...   \n",
              "5   shoulder multiple epiphyseal dysplasia one hun...   \n",
              "6   management postoperative chylous ascites case ...   \n",
              "7   pharmacomechanical thrombolysis angioplasty ma...   \n",
              "8   color doppler diagnosis mechanical prosthetic ...   \n",
              "9   noninvasive diagnosis rightsided extracardiac ...   \n",
              "10  sodium sensitive sodium retaining hypertension...   \n",
              "11  imaging bone tumors progress bone tumor manage...   \n",
              "12  closure bronchopleural fistula bronchoscopic i...   \n",
              "13  utility frozensection evaluation lymph nodes s...   \n",
              "\n",
              "                                  medical_abstract_sw  \n",
              "0   tissue changes around loose prostheses canine ...  \n",
              "1   neuropeptide neuronspecific enolase levels ben...  \n",
              "2   sexually transmitted diseases colon rectum anu...  \n",
              "3   lipolytic factors associated murine human canc...  \n",
              "4   carotid restenosis predict increased risk late...  \n",
              "5   shoulder multiple epiphyseal dysplasia one hun...  \n",
              "6   management postoperative chylous ascites case ...  \n",
              "7   pharmacomechanical thrombolysis angioplasty ma...  \n",
              "8   color doppler diagnosis mechanical prosthetic ...  \n",
              "9   noninvasive diagnosis rightsided extracardiac ...  \n",
              "10  sodium sensitive sodium retaining hypertension...  \n",
              "11  imaging bone tumors progress bone tumor manage...  \n",
              "12  closure bronchopleural fistula bronchoscopic i...  \n",
              "13  utility frozensection evaluation lymph nodes s...  "
            ]
          },
          "execution_count": 51,
          "metadata": {},
          "output_type": "execute_result"
        }
      ],
      "source": [
        "train_df.head(14)"
      ]
    },
    {
      "cell_type": "code",
      "execution_count": null,
      "metadata": {
        "colab": {
          "base_uri": "https://localhost:8080/"
        },
        "id": "y_N38tFCAtB6",
        "outputId": "d0aa2396-77b5-4e92-f912-20cd9bf3df85"
      },
      "outputs": [
        {
          "data": {
            "text/plain": [
              "General pathological conditions    3844\n",
              "Neoplasms                          2530\n",
              "Cardiovascular diseases            2441\n",
              "Nervous system diseases            1540\n",
              "Digestive system diseases          1195\n",
              "Name: condition_label, dtype: int64"
            ]
          },
          "execution_count": 52,
          "metadata": {},
          "output_type": "execute_result"
        }
      ],
      "source": [
        "train_df['condition_label'].unique()\n",
        "train_df.condition_label.value_counts()"
      ]
    },
    {
      "cell_type": "code",
      "execution_count": null,
      "metadata": {
        "colab": {
          "base_uri": "https://localhost:8080/"
        },
        "id": "sIgNtQjNjc7l",
        "outputId": "150d6227-3992-4954-e7ff-4a6a9e325026"
      },
      "outputs": [
        {
          "name": "stdout",
          "output_type": "stream",
          "text": [
            "<class 'pandas.core.frame.DataFrame'>\n",
            "RangeIndex: 14438 entries, 0 to 14437\n",
            "Data columns (total 6 columns):\n",
            " #   Column               Non-Null Count  Dtype \n",
            "---  ------               --------------  ----- \n",
            " 0   condition_label      14438 non-null  object\n",
            " 1   medical_abstract     14438 non-null  object\n",
            " 2   medical_abstract_lw  14438 non-null  object\n",
            " 3   medical_abstract_cl  14438 non-null  object\n",
            " 4   medical_abstract_lm  14438 non-null  object\n",
            " 5   medical_abstract_sw  14438 non-null  object\n",
            "dtypes: object(6)\n",
            "memory usage: 676.9+ KB\n"
          ]
        },
        {
          "name": "stderr",
          "output_type": "stream",
          "text": [
            "<ipython-input-53-f8c4afd6a8c0>:1: FutureWarning: The frame.append method is deprecated and will be removed from pandas in a future version. Use pandas.concat instead.\n",
            "  train_df=train_df.append(test_df, ignore_index=True)\n"
          ]
        }
      ],
      "source": [
        "train_df=train_df.append(test_df, ignore_index=True)\n",
        "train_df.info()"
      ]
    },
    {
      "cell_type": "code",
      "execution_count": null,
      "metadata": {
        "colab": {
          "base_uri": "https://localhost:8080/"
        },
        "id": "SxGtZGuRkL9T",
        "outputId": "8f67f597-7bb4-4734-c97d-02993d64a29b"
      },
      "outputs": [
        {
          "data": {
            "text/plain": [
              "General pathological conditions    4805\n",
              "Neoplasms                          3163\n",
              "Cardiovascular diseases            3051\n",
              "Nervous system diseases            1925\n",
              "Digestive system diseases          1494\n",
              "Name: condition_label, dtype: int64"
            ]
          },
          "execution_count": 54,
          "metadata": {},
          "output_type": "execute_result"
        }
      ],
      "source": [
        "train_df['condition_label'].unique()\n",
        "train_df.condition_label.value_counts()"
      ]
    },
    {
      "cell_type": "markdown",
      "metadata": {
        "id": "lb8XLk5-0R7s"
      },
      "source": [
        "================================================================================================"
      ]
    },
    {
      "cell_type": "markdown",
      "metadata": {
        "id": "-slBN9W8NU04"
      },
      "source": [
        "# **LSTM**"
      ]
    },
    {
      "cell_type": "code",
      "execution_count": null,
      "metadata": {
        "id": "ZcarhZyfNkXb"
      },
      "outputs": [],
      "source": [
        "from keras.preprocessing.text import Tokenizer\n",
        "from keras.preprocessing.sequence import pad_sequences\n",
        "from keras.layers import Embedding, LSTM, Dense\n",
        "from keras.models import Sequential"
      ]
    },
    {
      "cell_type": "code",
      "execution_count": null,
      "metadata": {
        "id": "pOaRtaTCauOf"
      },
      "outputs": [],
      "source": [
        "sentences= train_df['medical_abstract_sw'].tolist()\n",
        "labels=train_df['condition_label'].tolist()"
      ]
    },
    {
      "cell_type": "code",
      "execution_count": null,
      "metadata": {
        "colab": {
          "base_uri": "https://localhost:8080/"
        },
        "id": "A7diDpCbWVqD",
        "outputId": "e7b44af3-7e3e-4231-9173-226092d3b4e7"
      },
      "outputs": [
        {
          "name": "stdout",
          "output_type": "stream",
          "text": [
            "Found 42901 unique tokens.\n"
          ]
        }
      ],
      "source": [
        "# The maximum number of words to be used. (most frequent)\n",
        "MAX_NB_WORDS = 50000\n",
        "# Max number of words in each complaint.\n",
        "MAX_SEQUENCE_LENGTH = 100\n",
        "# This is fixed.\n",
        "EMBEDDING_DIM = 100\n",
        "tokenizer = Tokenizer(num_words=MAX_NB_WORDS,lower=True)\n",
        "tokenizer.fit_on_texts(sentences)\n",
        "word_index = tokenizer.word_index\n",
        "print('Found %s unique tokens.' % len(word_index))"
      ]
    },
    {
      "cell_type": "code",
      "execution_count": null,
      "metadata": {
        "colab": {
          "base_uri": "https://localhost:8080/"
        },
        "id": "kC6Xlo-FW4we",
        "outputId": "45b9e723-99fc-47a3-f079-e90546da0a5c"
      },
      "outputs": [
        {
          "name": "stdout",
          "output_type": "stream",
          "text": [
            "Shape of data tensor: (14438, 100)\n"
          ]
        }
      ],
      "source": [
        "X = tokenizer.texts_to_sequences(sentences)\n",
        "X = pad_sequences(X, maxlen=MAX_SEQUENCE_LENGTH)\n",
        "print('Shape of data tensor:', X.shape)"
      ]
    },
    {
      "cell_type": "code",
      "execution_count": null,
      "metadata": {
        "colab": {
          "base_uri": "https://localhost:8080/"
        },
        "id": "QHbHYZXZPDmt",
        "outputId": "0c9aa65b-a217-47d8-e148-2602fa747413"
      },
      "outputs": [
        {
          "name": "stdout",
          "output_type": "stream",
          "text": [
            "Shape of label tensor: (14438, 5)\n"
          ]
        }
      ],
      "source": [
        "Y = pd.get_dummies(train_df['condition_label']).values\n",
        "print('Shape of label tensor:', Y.shape)"
      ]
    },
    {
      "cell_type": "code",
      "execution_count": null,
      "metadata": {
        "colab": {
          "base_uri": "https://localhost:8080/"
        },
        "id": "2Ufj1Y-jXK1E",
        "outputId": "41a47a5b-331b-44aa-ff2e-2f7c501e22f0"
      },
      "outputs": [
        {
          "name": "stdout",
          "output_type": "stream",
          "text": [
            "(11550, 100) (11550, 5)\n",
            "(2888, 100) (2888, 5)\n"
          ]
        }
      ],
      "source": [
        "X_train, X_test, Y_train, Y_test = train_test_split(X,Y, test_size = 0.20, random_state = 42)\n",
        "print(X_train.shape,Y_train.shape)\n",
        "print(X_test.shape,Y_test.shape)"
      ]
    },
    {
      "cell_type": "code",
      "execution_count": null,
      "metadata": {
        "id": "pEUY36G3s2aS"
      },
      "outputs": [],
      "source": [
        "from keras import backend as K\n",
        "\n",
        "def recall_m(y_true, y_pred):\n",
        "    true_positives = K.sum(K.round(K.clip(y_true * y_pred, 0, 1)))\n",
        "    possible_positives = K.sum(K.round(K.clip(y_true, 0, 1)))\n",
        "    recall = true_positives / (possible_positives + K.epsilon())\n",
        "    return recall\n",
        "\n",
        "def precision_m(y_true, y_pred):\n",
        "    true_positives = K.sum(K.round(K.clip(y_true * y_pred, 0, 1)))\n",
        "    predicted_positives = K.sum(K.round(K.clip(y_pred, 0, 1)))\n",
        "    precision = true_positives / (predicted_positives + K.epsilon())\n",
        "    return precision\n",
        "\n",
        "def f1_m(y_true, y_pred):\n",
        "    precision = precision_m(y_true, y_pred)\n",
        "    recall = recall_m(y_true, y_pred)\n",
        "    return 2*((precision*recall)/(precision+recall+K.epsilon()))\n"
      ]
    },
    {
      "cell_type": "code",
      "execution_count": null,
      "metadata": {
        "id": "H25TJ6wSZO5v"
      },
      "outputs": [],
      "source": [
        "from tensorflow.keras.utils import plot_model\n",
        "import numpy as np\n",
        "from keras.layers import LSTM\n",
        "from keras.models import Sequential\n",
        "from keras.optimizers import Adam\n",
        "from keras.layers import Conv1D, Dense, MaxPool1D, Flatten, Input\n",
        "from keras.callbacks import ModelCheckpoint, EarlyStopping\n",
        "import keras\n",
        "import keras.utils\n",
        "from keras import utils as np_utils\n",
        "from keras.layers import Dropout\n",
        "import tensorflow as tf"
      ]
    },
    {
      "cell_type": "code",
      "execution_count": null,
      "metadata": {
        "colab": {
          "base_uri": "https://localhost:8080/",
          "height": 533
        },
        "id": "cbKjUE2uXZm9",
        "outputId": "761073b3-2043-452f-a241-cf1008bfbd9a"
      },
      "outputs": [
        {
          "data": {
            "image/png": "[encoded data removed]",
            "text/plain": [
              "<IPython.core.display.Image object>"
            ]
          },
          "execution_count": 92,
          "metadata": {},
          "output_type": "execute_result"
        }
      ],
      "source": [
        "model = Sequential()\n",
        "model.add(Embedding(MAX_NB_WORDS, EMBEDDING_DIM, input_length=X.shape[1]))\n",
        "model.add(Dropout(0.2))\n",
        "model.add(LSTM(128, dropout=0.2, recurrent_dropout=0.2, activation='tanh'))\n",
        "model.add(Dense(5, activation='softmax'))\n",
        "model.compile(loss='categorical_crossentropy', optimizer='adam', metrics=['acc',f1_m,precision_m, recall_m])\n",
        "plot_model(model, show_shapes = True)"
      ]
    },
    {
      "cell_type": "code",
      "execution_count": null,
      "metadata": {
        "colab": {
          "background_save": true,
          "base_uri": "https://localhost:8080/"
        },
        "id": "ZmPbHKB7ZEU3",
        "outputId": "e2f75121-d6dc-494a-b147-946b9e419127"
      },
      "outputs": [
        {
          "name": "stdout",
          "output_type": "stream",
          "text": [
            "Epoch 1/4\n",
            "145/145 [==============================] - 79s 513ms/step - loss: 1.3770 - acc: 0.4184 - f1_m: 0.1712 - precision_m: 0.3671 - recall_m: 0.1161 - val_loss: 1.2491 - val_acc: 0.4745 - val_f1_m: 0.3980 - val_precision_m: 0.6340 - val_recall_m: 0.2934\n",
            "Epoch 2/4\n",
            "145/145 [==============================] - 74s 513ms/step - loss: 1.0132 - acc: 0.5913 - f1_m: 0.5130 - precision_m: 0.7089 - recall_m: 0.4071 - val_loss: 1.2289 - val_acc: 0.4978 - val_f1_m: 0.4606 - val_precision_m: 0.5518 - val_recall_m: 0.3963\n",
            "Epoch 3/4\n",
            "145/145 [==============================] - 73s 504ms/step - loss: 0.7557 - acc: 0.7149 - f1_m: 0.6954 - precision_m: 0.7515 - recall_m: 0.6482 - val_loss: 1.3223 - val_acc: 0.4831 - val_f1_m: 0.4515 - val_precision_m: 0.5020 - val_recall_m: 0.4110\n"
          ]
        }
      ],
      "source": [
        "epochs = 4\n",
        "batch_size = 64\n",
        "\n",
        "history = model.fit(X_train, Y_train, epochs=epochs, batch_size=batch_size, validation_split=0.2, callbacks=[EarlyStopping(monitor='val_loss')])\n",
        "# , min_delta=0.0001"
      ]
    },
    {
      "cell_type": "code",
      "execution_count": null,
      "metadata": {
        "colab": {
          "background_save": true
        },
        "id": "mKBq4baCtS4h",
        "outputId": "59ff6903-81b0-4746-f4ef-72ecb95db7b0"
      },
      "outputs": [
        {
          "name": "stdout",
          "output_type": "stream",
          "text": [
            "91/91 [==============================] - 4s 38ms/step - loss: 1.2764 - acc: 0.4948 - f1_m: 0.4675 - precision_m: 0.5189 - recall_m: 0.4269\n"
          ]
        }
      ],
      "source": [
        "loss, accuracy, f1_score, precision, recall = model.evaluate(X_test, Y_test)"
      ]
    },
    {
      "cell_type": "code",
      "execution_count": null,
      "metadata": {
        "colab": {
          "background_save": true
        },
        "id": "_9zGjBItcbs3",
        "outputId": "0042ef37-74fd-4d76-8cad-5a74b1b8fdf9"
      },
      "outputs": [
        {
          "name": "stdout",
          "output_type": "stream",
          "text": [
            "Loss:  1.2764339447021484\n",
            "Accuracy:  0.49480608105659485\n",
            "F1 Score:  0.4675010144710541\n",
            "Precision:  0.5189082026481628\n",
            "Recall:  0.4268544018268585\n"
          ]
        }
      ],
      "source": [
        "print('Loss: ',loss)\n",
        "print('Accuracy: ', accuracy)\n",
        "print('F1 Score: ',f1_score)\n",
        "print('Precision: ',precision)\n",
        "print('Recall: ', recall)"
      ]
    },
    {
      "cell_type": "code",
      "execution_count": null,
      "metadata": {
        "colab": {
          "background_save": true
        },
        "id": "wOOKV464bb8N",
        "outputId": "2d1de81b-4f56-4ecb-9668-9132cd7055df"
      },
      "outputs": [
        {
          "data": {
            "text/plain": [
              "11550"
            ]
          },
          "execution_count": 96,
          "metadata": {},
          "output_type": "execute_result"
        }
      ],
      "source": [
        "len(Y_train)"
      ]
    },
    {
      "cell_type": "code",
      "execution_count": null,
      "metadata": {
        "colab": {
          "background_save": true
        },
        "id": "0oZaebv6bgBj",
        "outputId": "8b1e453f-8dff-4858-b9e8-18ebf967b340"
      },
      "outputs": [
        {
          "name": "stdout",
          "output_type": "stream",
          "text": [
            "361/361 [==============================] - 16s 43ms/step - loss: 0.6961 - acc: 0.7416 - f1_m: 0.7262 - precision_m: 0.7759 - recall_m: 0.6841\n",
            "Test set\n",
            "  Loss: 0.696\n",
            "  Accuracy: 0.742\n"
          ]
        }
      ],
      "source": [
        "accr = model.evaluate(X_train,Y_train)\n",
        "print('Test set\\n  Loss: {:0.3f}\\n  Accuracy: {:0.3f}'.format(accr[0],accr[1]))"
      ]
    },
    {
      "cell_type": "code",
      "execution_count": null,
      "metadata": {
        "colab": {
          "background_save": true
        },
        "id": "aatthHwWXsQH",
        "outputId": "a251e10a-ec12-4d78-f84b-2bc8d8ff2a82"
      },
      "outputs": [
        {
          "name": "stdout",
          "output_type": "stream",
          "text": [
            "91/91 [==============================] - 5s 59ms/step - loss: 1.2764 - acc: 0.4948 - f1_m: 0.4675 - precision_m: 0.5189 - recall_m: 0.4269\n",
            "Test set\n",
            "  Loss: 1.276\n",
            "  Accuracy: 0.495\n"
          ]
        }
      ],
      "source": [
        "accr = model.evaluate(X_test,Y_test)\n",
        "print('Test set\\n  Loss: {:0.3f}\\n  Accuracy: {:0.3f}'.format(accr[0],accr[1]))"
      ]
    },
    {
      "cell_type": "code",
      "execution_count": null,
      "metadata": {
        "colab": {
          "background_save": true
        },
        "id": "YB8pUQEX1mOq",
        "outputId": "c18fe14b-af9f-4d57-e011-6824447fbb19"
      },
      "outputs": [
        {
          "name": "stdout",
          "output_type": "stream",
          "text": [
            "91/91 [==============================] - 4s 38ms/step\n"
          ]
        },
        {
          "data": {
            "text/plain": [
              "array([[0.7067162 , 0.00433499, 0.26795906, 0.00487111, 0.01611867],\n",
              "       [0.8658475 , 0.00212585, 0.11047632, 0.00189018, 0.01966002],\n",
              "       [0.81873417, 0.00229816, 0.15722872, 0.00169462, 0.02004436],\n",
              "       ...,\n",
              "       [0.7600683 , 0.00814826, 0.12806056, 0.0044339 , 0.09928896],\n",
              "       [0.00588913, 0.01410064, 0.1355621 , 0.8278233 , 0.01662475],\n",
              "       [0.03810145, 0.04546287, 0.89911467, 0.00833147, 0.00898954]],\n",
              "      dtype=float32)"
            ]
          },
          "execution_count": 99,
          "metadata": {},
          "output_type": "execute_result"
        }
      ],
      "source": [
        "# Make predictions with feature extraction model\n",
        "model_pred_probs = model.predict(X_test)\n",
        "model_pred_probs"
      ]
    },
    {
      "cell_type": "code",
      "execution_count": null,
      "metadata": {
        "colab": {
          "background_save": true
        },
        "id": "CYA08dK71thS",
        "outputId": "550d01e6-f6f2-46ce-df25-facb98504bf7"
      },
      "outputs": [
        {
          "data": {
            "text/plain": [
              "<tf.Tensor: shape=(2888,), dtype=int64, numpy=array([0, 0, 0, ..., 0, 3, 2])>"
            ]
          },
          "execution_count": 100,
          "metadata": {},
          "output_type": "execute_result"
        }
      ],
      "source": [
        "# Convert the predictions with feature extraction model to classes\n",
        "model_preds = tf.argmax(model_pred_probs, axis=1)\n",
        "model_preds"
      ]
    },
    {
      "cell_type": "code",
      "execution_count": null,
      "metadata": {
        "colab": {
          "background_save": true
        },
        "id": "Xrg2pi3rblD2",
        "outputId": "b9ebde37-7143-444e-c804-057a00a86893"
      },
      "outputs": [
        {
          "data": {
            "image/png": "[encoded data removed]",
            "text/plain": [
              "<Figure size 800x550 with 1 Axes>"
            ]
          },
          "metadata": {},
          "output_type": "display_data"
        }
      ],
      "source": [
        "plt.title('Loss')\n",
        "plt.plot(history.history['loss'], label='train')\n",
        "plt.plot(history.history['val_loss'], label='test')\n",
        "plt.xlabel('Epochs')\n",
        "plt.legend()\n",
        "plt.show();"
      ]
    },
    {
      "cell_type": "code",
      "execution_count": null,
      "metadata": {
        "colab": {
          "background_save": true
        },
        "id": "CuWENVqlcRVW",
        "outputId": "6aee75c7-efb3-4cd5-fa85-77ca3599060e"
      },
      "outputs": [
        {
          "data": {
            "image/png": "[encoded data removed]",
            "text/plain": [
              "<Figure size 800x550 with 1 Axes>"
            ]
          },
          "metadata": {},
          "output_type": "display_data"
        }
      ],
      "source": [
        "plt.title('Accuracy')\n",
        "plt.plot(history.history['acc'], label='train')\n",
        "plt.plot(history.history['val_acc'], label='test')\n",
        "plt.xlabel('Epochs')\n",
        "plt.legend()\n",
        "plt.show();"
      ]
    },
    {
      "cell_type": "markdown",
      "metadata": {
        "id": "_dRp6PnAUAwa"
      },
      "source": [
        "# **=======================================================================**"
      ]
    },
    {
      "cell_type": "code",
      "execution_count": null,
      "metadata": {
        "colab": {
          "background_save": true
        },
        "id": "zlrlroZvRHCj"
      },
      "outputs": [],
      "source": []
    }
  ],
  "metadata": {
    "accelerator": "GPU",
    "colab": {
      "gpuType": "T4",
      "provenance": []
    },
    "kernelspec": {
      "display_name": "Python 3",
      "name": "python3"
    },
    "language_info": {
      "name": "python"
    }
  },
  "nbformat": 4,
  "nbformat_minor": 0
}